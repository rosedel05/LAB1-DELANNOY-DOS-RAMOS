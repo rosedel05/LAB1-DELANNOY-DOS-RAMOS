{
 "cells": [
  {
   "cell_type": "markdown",
   "id": "3ebf700c-86f4-4ae2-afc6-37f1769178a6",
   "metadata": {},
   "source": [
    "# Lab 1 : Linear Regression\n",
    "\n",
    "## G3 SDI - Machine Learning\n",
    "\n",
    "In this lab, we are going to implement linear regression and ridge regression on a medical data example. The data come from a medical study (Stamey et al., 1989), whose goal was to predict the level of prostate-specific antigen (`lpsa`) from some clinical measurements. These clinical exams are carried out before a possible prostatectomy.\n",
    "\n",
    "The measurements are log cancer volume `lcavol`, log prostate weight `lweight`, age of the patient `age`, log of benign prostatic hyperplasia amount `lbph`, seminal vesicle invasion `svi`, log of capsular penetration `lcp`, Gleason score `gleason`, and percent of Gleason scores 4 or 5 `pgg45`. The variable `svi` is binary, `gleason` is ordinal, others are quantitative.\n",
    "\n",
    "### Instructions\n",
    "* Rename your notebook with your surnames as `lab1_Name1_Name2.ipynb`, and include your names in the notebook.\n",
    "* Your code, and its output, must be commented !\n",
    "* Please upload your notebook on Moodle in the dedicated section before the deadline."
   ]
  },
  {
   "cell_type": "markdown",
   "id": "5d33a552-5dae-4ba0-a241-bd40148c260c",
   "metadata": {},
   "source": [
    "<div style=\"background-color: rgba(255, 255, 0, 0.15); padding: 8px;\">\n",
    "Report written by [name1], [name2], date.\n",
    "</div>"
   ]
  },
  {
   "cell_type": "code",
   "execution_count": null,
   "id": "f0c0b0f5-56ec-4903-bb06-a006b81a99e7",
   "metadata": {},
   "outputs": [],
   "source": [
    "# Import usual libraries\n",
    "import numpy as np\n",
    "from matplotlib import pyplot as plt"
   ]
  },
  {
   "cell_type": "markdown",
   "id": "4aa9ecdf-ff04-492c-a9c3-9e35e6617c20",
   "metadata": {},
   "source": [
    "### Part 1 - Linear regression\n",
    "\n",
    "In this first part, we focus on using linear regression."
   ]
  },
  {
   "cell_type": "markdown",
   "id": "e8db2d14-b820-4750-9c99-3699da7cd741",
   "metadata": {},
   "source": [
    "**Q1.** Load the data from the `.npy` files included in the archive (use `np.load`). How many examples are there ? How many features ?"
   ]
  },
  {
   "cell_type": "code",
   "execution_count": null,
   "id": "bc4d0e14-3f63-41b5-83bb-ed9917c15e06",
   "metadata": {},
   "outputs": [],
   "source": [
    "##########\n",
    "## YOUR CODE HERE\n",
    "##########"
   ]
  },
  {
   "cell_type": "markdown",
   "id": "b34c3fe2-34d4-4d3a-ac7b-fb953939258a",
   "metadata": {},
   "source": [
    "<div style=\"background-color: rgba(255, 255, 0, 0.15); padding: 8px;\">\n",
    "Your answer here\n",
    "</div>"
   ]
  },
  {
   "cell_type": "markdown",
   "id": "84819978-237f-4663-8e85-b02a377a3c14",
   "metadata": {},
   "source": [
    "**Q2.** Check whether there are some missing entries in the dataset (both in X and y). Use `np.isnan`."
   ]
  },
  {
   "cell_type": "code",
   "execution_count": null,
   "id": "967a1c9f-abc9-4788-a984-f1da756dd7bf",
   "metadata": {},
   "outputs": [],
   "source": [
    "##########\n",
    "## YOUR CODE HERE\n",
    "##########"
   ]
  },
  {
   "cell_type": "markdown",
   "id": "f9f9be19-8e98-4fbb-8627-01b4c55fd5f9",
   "metadata": {},
   "source": [
    "<div style=\"background-color: rgba(255, 255, 0, 0.15); padding: 8px;\">\n",
    "Your answer here\n",
    "</div>"
   ]
  },
  {
   "cell_type": "markdown",
   "id": "ff9a08ba-f93f-4c42-8c89-8372ced589a1",
   "metadata": {},
   "source": [
    "**Q3.** Divide the dataset into a training set (80%) and a test set (20%), using `train_test_split` with `random_state = 0` (documentation [here](https://scikit-learn.org/stable/modules/generated/sklearn.model_selection.train_test_split.html))."
   ]
  },
  {
   "cell_type": "code",
   "execution_count": null,
   "id": "3e6c33af-9194-443b-bc56-f8bfefceb579",
   "metadata": {},
   "outputs": [],
   "source": [
    "from sklearn.model_selection import train_test_split\n",
    "\n",
    "##########\n",
    "## YOUR CODE HERE\n",
    "##########"
   ]
  },
  {
   "cell_type": "markdown",
   "id": "33d4ac5c-d4f5-4f96-92ff-857308ba63d1",
   "metadata": {},
   "source": [
    "**Q4.** Standardize the training set, and apply the same operation to the test set. Use `StandardScaler` (documentation [here](https://scikit-learn.org/stable/modules/generated/sklearn.preprocessing.StandardScaler.html)). Recall what standardization means."
   ]
  },
  {
   "cell_type": "code",
   "execution_count": null,
   "id": "4cef7e3d-e430-423c-b405-405a8d2878e3",
   "metadata": {},
   "outputs": [],
   "source": [
    "from sklearn.preprocessing import StandardScaler\n",
    "\n",
    "##########\n",
    "## YOUR CODE HERE\n",
    "##########"
   ]
  },
  {
   "cell_type": "markdown",
   "id": "d0a525c1-b82f-48cd-a203-500eafa19153",
   "metadata": {},
   "source": [
    "<div style=\"background-color: rgba(255, 255, 0, 0.15); padding: 8px;\">\n",
    "Your answer here\n",
    "</div>"
   ]
  },
  {
   "cell_type": "markdown",
   "id": "dd735cca-aa9c-4907-8620-63e5ae450132",
   "metadata": {},
   "source": [
    "**Q5.** Compute the auto-covariance matrix from the training set, and display it (you might want to use `plt.imshow`). What can we learn from this ?"
   ]
  },
  {
   "cell_type": "code",
   "execution_count": null,
   "id": "0f3b96d5-98db-4b47-b008-91d6066236c1",
   "metadata": {},
   "outputs": [],
   "source": [
    "##########\n",
    "## YOUR CODE HERE\n",
    "##########"
   ]
  },
  {
   "cell_type": "markdown",
   "id": "06352edf-7199-4cc7-9137-1f357e9167fd",
   "metadata": {},
   "source": [
    "<div style=\"background-color: rgba(255, 255, 0, 0.15); padding: 8px;\">\n",
    "Your answer here\n",
    "</div>"
   ]
  },
  {
   "cell_type": "markdown",
   "id": "49ea3dbd-24a6-47b1-b068-7cf62c8b1035",
   "metadata": {},
   "source": [
    "**Q6.** We are now going to train the linear regression model using scikit-learn (check the documentation [here](https://scikit-learn.org/stable/modules/generated/sklearn.linear_model.LinearRegression.html)). Use the `.fit` method on the training set. Retrieve the coefficients obtained by scikit-learn using the attributes `.intercept_` and `.coef_`, and check that it corresponds to the closed-form solution from the lecture (you might want to use `np.hstack` to concatenate X with a column of ones)."
   ]
  },
  {
   "cell_type": "code",
   "execution_count": null,
   "id": "1ecd7a79-06f3-4aca-8f99-95f386d82a04",
   "metadata": {},
   "outputs": [],
   "source": [
    "from sklearn.linear_model import LinearRegression\n",
    "\n",
    "##########\n",
    "## YOUR CODE HERE\n",
    "##########"
   ]
  },
  {
   "cell_type": "markdown",
   "id": "cbee30d0-b308-45b3-a066-b193c2706622",
   "metadata": {},
   "source": [
    "<div style=\"background-color: rgba(255, 255, 0, 0.15); padding: 8px;\">\n",
    "Your answer here\n",
    "</div>"
   ]
  },
  {
   "cell_type": "markdown",
   "id": "39f29c19-841a-494f-b3ba-7547b341ac52",
   "metadata": {},
   "source": [
    "**Q7.** Obtain the model predictions on the test set using the `.predict` method. Then compute the MSE and the MAE (you may want to use the functions below)."
   ]
  },
  {
   "cell_type": "code",
   "execution_count": null,
   "id": "3599f8b1-d957-4712-8606-1b3248020c23",
   "metadata": {},
   "outputs": [],
   "source": [
    "from sklearn.metrics import mean_absolute_error, mean_squared_error\n",
    "\n",
    "##########\n",
    "## YOUR CODE HERE\n",
    "##########"
   ]
  },
  {
   "cell_type": "markdown",
   "id": "b41eade5-9d64-4277-83dc-f31e3d9d325f",
   "metadata": {},
   "source": [
    "### Part 2 - Ridge regression\n",
    "\n",
    "In this second part, we now turn to ridge regression."
   ]
  },
  {
   "cell_type": "markdown",
   "id": "ee7a40b9-bcf3-47cd-8e2b-64bb3ba65209",
   "metadata": {},
   "source": [
    "**Q1.** Fit the ridge regression model (documentation [here](https://scikit-learn.org/stable/modules/generated/sklearn.linear_model.Ridge.html)) with $\\lambda = 1$, using the `.fit` method on the training set. Again, retrieve the coefficients, and check that they match with the closed-form solution from the lecture. How do they differ from the ones obtained with linear regression ?"
   ]
  },
  {
   "cell_type": "code",
   "execution_count": null,
   "id": "00c074f0-2779-448f-a9db-eedc9d56d2d3",
   "metadata": {},
   "outputs": [],
   "source": [
    "from sklearn.linear_model import Ridge\n",
    "\n",
    "##########\n",
    "## YOUR CODE HERE\n",
    "##########"
   ]
  },
  {
   "cell_type": "markdown",
   "id": "36dc8f46-43fa-401d-9b48-c26a589fde8c",
   "metadata": {},
   "source": [
    "<div style=\"background-color: rgba(255, 255, 0, 0.15); padding: 8px;\">\n",
    "Your answer here\n",
    "</div>"
   ]
  },
  {
   "cell_type": "markdown",
   "id": "049c06fc-d4f4-4543-af2f-2d28b6d48803",
   "metadata": {},
   "source": [
    "**Q2.** Obtain the model predictions on the test set using the `.predict` method, then compute the MSE and the MAE. Do we get better or worse predictions than before ? Comment."
   ]
  },
  {
   "cell_type": "code",
   "execution_count": null,
   "id": "5916902e-7ed5-42df-80e7-e60575b53fee",
   "metadata": {},
   "outputs": [],
   "source": [
    "##########\n",
    "## YOUR CODE HERE\n",
    "##########"
   ]
  },
  {
   "cell_type": "markdown",
   "id": "efff0745-c7d6-4d8c-b1d7-922b7094c390",
   "metadata": {},
   "source": [
    "<div style=\"background-color: rgba(255, 255, 0, 0.15); padding: 8px;\">\n",
    "Your answer here\n",
    "</div>"
   ]
  },
  {
   "cell_type": "markdown",
   "id": "fa963d1e-7f4a-4d4c-adf2-46641b2ba024",
   "metadata": {},
   "source": [
    "**Q3.** We are now going to assess the impact of the regularization coefficient $\\lambda$.\n",
    "\n",
    "To do so, vary $\\lambda$ from $10^{-3}$ and $10^3$ (use `np.logspace`), and for each value of $\\lambda$, retrain the ridge regression model and keep the values of the coefficients (ignoring the intercept).\n",
    "\n",
    "Display the evolution of the coefficients w.r.t. $\\lambda$ (use a logarithmic scale for the x-axis). Comment."
   ]
  },
  {
   "cell_type": "code",
   "execution_count": null,
   "id": "67584cb5-cc00-4e03-9ace-3f39fc22dd16",
   "metadata": {},
   "outputs": [],
   "source": [
    "##########\n",
    "## YOUR CODE HERE\n",
    "##########"
   ]
  },
  {
   "cell_type": "markdown",
   "id": "df90a701-e6ba-4fdf-b69c-918e16b45d7f",
   "metadata": {},
   "source": [
    "<div style=\"background-color: rgba(255, 255, 0, 0.15); padding: 8px;\">\n",
    "Your answer here\n",
    "</div>"
   ]
  },
  {
   "cell_type": "markdown",
   "id": "9d2367f4-f5d5-43ba-be06-ec8f0fca2df0",
   "metadata": {},
   "source": [
    "**Q4.** Now remains the question of choosing the optimal $\\lambda$. We are going to select it with a 5-fold cross-validation.\n",
    "\n",
    "Display the evolution of the cross-validated MSE w.r.t. $\\lambda$ (use again a logarithmic scale for the x-axis), and display the best $\\lambda$ with a `plt.axvline`.\n",
    "\n",
    "Now retrain the ridge regression model with the selected $\\lambda$, and assess its performance in terms of MSE and MAE. Comment."
   ]
  },
  {
   "cell_type": "code",
   "execution_count": null,
   "id": "7b70367a-2310-482f-8cf6-85daaa2d6231",
   "metadata": {},
   "outputs": [],
   "source": [
    "from sklearn.model_selection import KFold\n",
    "\n",
    "# Set-up cross-validation\n",
    "kf = KFold(n_splits=5)\n",
    "\n",
    "for train_index, val_index in kf.split(X_train):\n",
    "    X_train_new, X_val = X_train[train_index], X_train[val_index]\n",
    "    y_train_new, y_val = y_train[train_index], y_train[val_index]\n",
    "\n",
    "    ##########\n",
    "    ## YOUR CODE HERE\n",
    "    ##########"
   ]
  },
  {
   "cell_type": "markdown",
   "id": "693bc54d-961e-451f-8863-5bf83b7f72e3",
   "metadata": {},
   "source": [
    "### Part 3 (Bonus) - LASSO\n",
    "\n",
    "Display the same kind of plots as in Part 2, but using LASSO regression instead of ridge regression (see [here](https://scikit-learn.org/stable/modules/generated/sklearn.linear_model.Lasso.html). In particular, comment on the following points :\n",
    "* Do the regression coefficients evolve in the same way as ridge regression ? What kind of solutions do we obtain ?\n",
    "* Do we get the same optimal lambda ?"
   ]
  },
  {
   "cell_type": "code",
   "execution_count": null,
   "id": "7061e7d3-5499-4692-bc5a-d0787f7a9f37",
   "metadata": {},
   "outputs": [],
   "source": [
    "##########\n",
    "## YOUR CODE HERE\n",
    "##########"
   ]
  },
  {
   "cell_type": "markdown",
   "id": "927bca27-900a-4263-99f1-47dfedf6b962",
   "metadata": {},
   "source": [
    "<div style=\"background-color: rgba(255, 255, 0, 0.15); padding: 8px;\">\n",
    "Your answer here\n",
    "</div>"
   ]
  }
 ],
 "metadata": {
  "kernelspec": {
   "display_name": "Python 3 (ipykernel)",
   "language": "python",
   "name": "python3"
  },
  "language_info": {
   "codemirror_mode": {
    "name": "ipython",
    "version": 3
   },
   "file_extension": ".py",
   "mimetype": "text/x-python",
   "name": "python",
   "nbconvert_exporter": "python",
   "pygments_lexer": "ipython3",
   "version": "3.11.7"
  }
 },
 "nbformat": 4,
 "nbformat_minor": 5
}
